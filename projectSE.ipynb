{
 "cells": [
  {
   "cell_type": "code",
   "execution_count": 2,
   "id": "c3b8d8de",
   "metadata": {},
   "outputs": [],
   "source": [
    "class Account: \n",
    "    accountID = None\n",
    "    username = None\n",
    "    firstName = None\n",
    "    lastName = None\n",
    "    age = None\n",
    "    accountType = None\n",
    "    email = None\n",
    "    password = None\n",
    "    \n",
    "    def __init__(self, accountID, username, firstName, lastName, age, accountType, email, password):\n",
    "        self.accountID = accountID\n",
    "        self.username = username\n",
    "        self.firstName = firstName\n",
    "        self.name = lastName\n",
    "        self.age = age\n",
    "        self.accountType = accountType\n",
    "        self.email = email\n",
    "        self.password = password\n",
    "        \n",
    "    def changeUsername(self):\n",
    "        username = input(\"Enter new username: \")\n",
    "        \n",
    "    def changePassword(self, verifyPassword):\n",
    "        if (verifyPassword != self.password):\n",
    "            print(\"Wrong password.\")\n",
    "            return\n",
    "        else:\n",
    "            self. password = input(\"Enter new password: \")\n",
    "            return\n",
    "    "
   ]
  },
  {
   "cell_type": "code",
   "execution_count": null,
   "id": "394b52c0",
   "metadata": {},
   "outputs": [],
   "source": [
    "class Store:\n",
    "    def __init__(self, storeOwner, StoreName, businessType, typeOfProduct):\n",
    "        self.storeOwner = storeOwner\n",
    "        self.storeName = storeName\n",
    "        self.businessType = businessType\n",
    "        self.storeDescription = storeDescription\n",
    "        self.storeInventory = Inventory()\n",
    "        \n",
    "    def changeStoreDescription(self):\n",
    "        self.storeDescription = input(\"Enter store description: \")\n",
    "        \n",
    "    def addItemInInventory(self):\n",
    "        itemID = input(\"Enter ID of product: \")\n",
    "        itemName = input(\"Enter name of product: \")\n",
    "        itemPrice = input(\"Enter price of product: \")\n",
    "        \n",
    "        self.storeInventory.addItem(Item(itemID, itemName, itemPrice))\n",
    "        \n",
    "        "
   ]
  },
  {
   "cell_type": "code",
   "execution_count": null,
   "id": "81f37d6f",
   "metadata": {},
   "outputs": [],
   "source": [
    "class Inventory:  \n",
    "    itemList = None\n",
    "    def __init__(self):\n",
    "        self.itemlist = []\n",
    "        \n",
    "    def addItem(self, item):\n",
    "        self.itemList.append(item)"
   ]
  },
  {
   "cell_type": "code",
   "execution_count": null,
   "id": "71dc27a7",
   "metadata": {},
   "outputs": [],
   "source": [
    "class Item:\n",
    "    itemID = None\n",
    "    itemName = None\n",
    "    itemPrice = None\n",
    "    \n",
    "    def __init__(self, itemID, itemName, itemPrice):\n",
    "        self.itemID = itemID\n",
    "        self.itemName = itemName\n",
    "        self.itemPrice = itemPrice\n",
    "        \n",
    "    def changeItemPrice(self):\n",
    "        self.itemPrice = int(input(\"Enter item price: \"))"
   ]
  }
 ],
 "metadata": {
  "kernelspec": {
   "display_name": "Python 3 (ipykernel)",
   "language": "python",
   "name": "python3"
  },
  "language_info": {
   "codemirror_mode": {
    "name": "ipython",
    "version": 3
   },
   "file_extension": ".py",
   "mimetype": "text/x-python",
   "name": "python",
   "nbconvert_exporter": "python",
   "pygments_lexer": "ipython3",
   "version": "3.10.2"
  }
 },
 "nbformat": 4,
 "nbformat_minor": 5
}
